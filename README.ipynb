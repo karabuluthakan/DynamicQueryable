{
 "cells": [
  {
   "cell_type": "markdown",
   "metadata": {},
   "source": [
    "# DynamicQueryable\n",
    "\n",
    "λ Construct Linq queries using strings.\n",
    "\n",
    "## Installation\n",
    "\n",
    "dotnet add package DynamicQueryable\n",
    "\n",
    "## Getting Started\n",
    "\n",
    "Start with adding System.Linq.Dynamic namespace to usings."
   ]
  },
  {
   "cell_type": "code",
   "execution_count": 31,
   "metadata": {},
   "outputs": [
    {
     "data": {
      "text/html": [
       "Installing package DynamicQueryable.done!"
      ]
     },
     "metadata": {},
     "output_type": "display_data"
    },
    {
     "data": {
      "text/html": [
       "Successfully added reference to package DynamicQueryable, version 2.0.25"
      ]
     },
     "metadata": {},
     "output_type": "display_data"
    }
   ],
   "source": [
    "#r \"nuget:DynamicQueryable\"\n",
    "\n",
    "using System.Linq.Dynamic;"
   ]
  },
  {
   "cell_type": "code",
   "execution_count": 32,
   "metadata": {},
   "outputs": [],
   "source": [
    "public class Order {\n",
    "    public int Id { get; set; }\n",
    "    public double Price;\n",
    "}\n",
    "\n",
    "var orders = new List<Order> {\n",
    "    new Order { Id = 1, Price = 42 },\n",
    "    new Order { Id = 2, Price = 81 },\n",
    "    new Order { Id = 3, Price = 34 },\n",
    "    new Order { Id = 4, Price = 117 },\n",
    "    new Order { Id = 5, Price = 289 },\n",
    "    new Order { Id = 6, Price = 3 }\n",
    "};\n",
    "\n",
    "var query = orders.AsQueryable();"
   ]
  },
  {
   "cell_type": "markdown",
   "metadata": {},
   "source": [
    "**You can use inline values**"
   ]
  },
  {
   "cell_type": "code",
   "execution_count": 33,
   "metadata": {},
   "outputs": [
    {
     "name": "stdout",
     "output_type": "stream",
     "text": [
      "4, 5\n"
     ]
    }
   ],
   "source": [
    "var r1 = query.Where(\"o => o.Price > 100\").ToList();\n",
    "Console.WriteLine(string.Join(\", \", r1.Select(o => o.Id)));"
   ]
  },
  {
   "cell_type": "markdown",
   "metadata": {},
   "source": [
    "**Or you can pass ordered values, @0 will be replaced with first argument**"
   ]
  },
  {
   "cell_type": "code",
   "execution_count": 34,
   "metadata": {},
   "outputs": [
    {
     "name": "stdout",
     "output_type": "stream",
     "text": [
      "1, 3, 6\n"
     ]
    }
   ],
   "source": [
    "var r2 = query.Where(\"o => o.Price < @0\", 50).ToList();\n",
    "Console.WriteLine(string.Join(\", \", r2.Select(o => o.Id)));"
   ]
  },
  {
   "cell_type": "markdown",
   "metadata": {},
   "source": [
    "**Or you can use named variables, AvgId will be replaced with value from given dictionary**"
   ]
  },
  {
   "cell_type": "code",
   "execution_count": 35,
   "metadata": {},
   "outputs": [
    {
     "name": "stdout",
     "output_type": "stream",
     "text": [
      "4, 5, 6\n"
     ]
    }
   ],
   "source": [
    "var prms = new Dictionary<string, object> { { \"avgId\", 3 } };\n",
    "var r3 = query.Where(\"o => o.Id > avgId\", prms).ToList();\n",
    "Console.WriteLine(string.Join(\", \", r3.Select(o => o.Id)));"
   ]
  },
  {
   "cell_type": "markdown",
   "metadata": {},
   "source": [
    "## Supported Methods\n",
    "\n",
    "Aggregate, All, Any, Average, Concat, Contains, Count, DefaultIfEmpty, Distinct, Except, ElementAt, ElementAtOrDefault, First, FirstOrDefault, GroupBy, GroupJoin, Intersect, Join, Last, LastOrDefault, LongCount, Max, Min, OrderBy, OrderByDescending, Reverse, Select, SelectMany, SequenceEqual, Single, SingleOrDefault, Skip, SkipWhile, Sum, Take, TakeWhile, ThenBy, ThenByDescending, Union, Where, Zip"
   ]
  },
  {
   "cell_type": "code",
   "execution_count": null,
   "metadata": {},
   "outputs": [],
   "source": []
  }
 ],
 "metadata": {
  "kernelspec": {
   "display_name": ".NET (C#)",
   "language": "C#",
   "name": ".net-csharp"
  },
  "language_info": {
   "file_extension": ".cs",
   "mimetype": "text/x-csharp",
   "name": "C#",
   "pygments_lexer": "csharp",
   "version": "8.0"
  }
 },
 "nbformat": 4,
 "nbformat_minor": 4
}
