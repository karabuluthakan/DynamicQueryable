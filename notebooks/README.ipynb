{
 "cells": [
  {
   "cell_type": "code",
   "execution_count": 1,
   "metadata": {},
   "outputs": [
    {
     "data": {
      "text/html": [
       "Installing package DynamicQueryable..............done!"
      ]
     },
     "metadata": {},
     "output_type": "display_data"
    },
    {
     "data": {
      "text/html": [
       "Successfully added reference to package DynamicQueryable, version 2.0.25"
      ]
     },
     "metadata": {},
     "output_type": "display_data"
    }
   ],
   "source": [
    "#r \"nuget:DynamicQueryable\"\n",
    "\n",
    "using System.Linq.Dynamic;"
   ]
  },
  {
   "cell_type": "code",
   "execution_count": null,
   "metadata": {},
   "outputs": [],
   "source": [
    "public class Order {\n",
    "    public int Id { get; set; }\n",
    "    public double Price;\n",
    "}\n",
    "\n",
    "var orders = new List<Order> {\n",
    "    new Order { Id = 1, Price = 42 },\n",
    "    new Order { Id = 2, Price = 81 },\n",
    "    new Order { Id = 3, Price = 34 },\n",
    "    new Order { Id = 4, Price = 117 },\n",
    "    new Order { Id = 5, Price = 289 },\n",
    "    new Order { Id = 6, Price = 3 }\n",
    "};\n",
    "\n",
    "var query = orders.AsQueryable();"
   ]
  },
  {
   "cell_type": "markdown",
   "metadata": {},
   "source": [
    "**You can use inline values**"
   ]
  },
  {
   "cell_type": "code",
   "execution_count": null,
   "metadata": {},
   "outputs": [],
   "source": [
    "var r1 = query.Where(\"o => o.Price > 100\").Take(1).ToList();\n",
    "Console.WriteLine(string.Join(\", \", r1.Select(o => o.Id)));"
   ]
  },
  {
   "cell_type": "markdown",
   "metadata": {},
   "source": [
    "**Or you can pass ordered values, @0 will be replaced with first argument**"
   ]
  },
  {
   "cell_type": "code",
   "execution_count": null,
   "metadata": {},
   "outputs": [],
   "source": [
    "var r2 = query.Where(\"o => o.Price < @0\", 50).ToList();\n",
    "Console.WriteLine(string.Join(\", \", r2.Select(o => o.Id)));"
   ]
  },
  {
   "cell_type": "markdown",
   "metadata": {},
   "source": [
    "**Or you can use named variables, AvgId will be replaced with value from given dictionary**"
   ]
  },
  {
   "cell_type": "code",
   "execution_count": null,
   "metadata": {},
   "outputs": [],
   "source": [
    "var prms = new Dictionary<string, object> { { \"avgId\", 3 } };\n",
    "var r3 = query.Where(\"o => o.Id > avgId\", prms).ToList();\n",
    "Console.WriteLine(string.Join(\", \", r3.Select(o => o.Id)));"
   ]
  },
  {
   "cell_type": "markdown",
   "metadata": {},
   "source": [
    "## Supported Methods\n",
    "\n",
    "Aggregate, All, Any, Average, Concat, Contains, Count, DefaultIfEmpty, Distinct, Except, ElementAt, ElementAtOrDefault, First, FirstOrDefault, GroupBy, GroupJoin, Intersect, Join, Last, LastOrDefault, LongCount, Max, Min, OrderBy, OrderByDescending, Reverse, Select, SelectMany, SequenceEqual, Single, SingleOrDefault, Skip, SkipWhile, Sum, Take, TakeWhile, ThenBy, ThenByDescending, Union, Where, Zip"
   ]
  }
 ],
 "metadata": {
  "kernelspec": {
   "display_name": ".NET (C#)",
   "language": "C#",
   "name": ".net-csharp"
  },
  "language_info": {
   "file_extension": ".cs",
   "mimetype": "text/x-csharp",
   "name": "C#",
   "pygments_lexer": "csharp",
   "version": "8.0"
  }
 },
 "nbformat": 4,
 "nbformat_minor": 4
}
